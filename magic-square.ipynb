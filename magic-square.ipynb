{
 "cells": [
  {
   "cell_type": "code",
   "execution_count": 4,
   "id": "726cfa0f-fe68-4a18-a71c-1911da1cbf2b",
   "metadata": {},
   "outputs": [],
   "source": [
    "# Define a fuction named magic square\n",
    "def magic_square(matrix_ms):\n",
    "    iSize = len(matrix_ms)\n",
    "    # sum of the diagonals\n",
    "    sum_list_d1 = 0\n",
    "    sum_list_d2 = 0\n",
    "    \n",
    "    for i in range(iSize):\n",
    "        sum_list_d1+=matrix_ms[i][i]\n",
    "        sum_list_d2+=matrix_ms[i][iSize-i-1]\n",
    "        # if the two diagonal sums are unequal then it is not a magic square\n",
    "    if not(sum_list_d1==sum_list_d2):\n",
    "        return False\n",
    "    for i in range(iSize):\n",
    "        # sum of horizontal Squares\n",
    "        sum_list_r=0\n",
    "        # sum of vertical Squares\n",
    "        sum_list_c=0\n",
    "        for j in range(iSize):\n",
    "            sum_list_r+=matrix_ms[i][j]\n",
    "            sumc+=matrix_ms[j][i]\n",
    "        if not(sum_list_r==sum_list_c==sum_listd1):\n",
    "              return False\n",
    "        #if all conditions are satisfied, pint the statements below\n",
    "              return True\n",
    "        \n",
    "        matrix_ms = [ [10, 12, 13],\n",
    "                      [12, 11, 12],\n",
    "                      [11, 12, 12] ]\n",
    "        if (magic_square(matrix_ms)) :\n",
    "            print( \"True: Magic Square\")\n",
    "        else :\n",
    "            print( \"False: Not a magic Square\")\n",
    "        \n",
    "        print(magic_square([[7,4,4], [6,5,4], [9,3,6]]))"
   ]
  }
 ],
 "metadata": {
  "kernelspec": {
   "display_name": "Python 3.10.4 64-bit",
   "language": "python",
   "name": "python3"
  },
  "language_info": {
   "codemirror_mode": {
    "name": "ipython",
    "version": 3
   },
   "file_extension": ".py",
   "mimetype": "text/x-python",
   "name": "python",
   "nbconvert_exporter": "python",
   "pygments_lexer": "ipython3",
   "version": "3.10.4"
  },
  "vscode": {
   "interpreter": {
    "hash": "07c97a22fb0965e27eaf2a1229a11326bfcdcea793b5f46509e3a47595f26577"
   }
  }
 },
 "nbformat": 4,
 "nbformat_minor": 5
}
